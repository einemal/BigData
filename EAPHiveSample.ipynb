{
 "cells": [
  {
   "cell_type": "markdown",
   "metadata": {},
   "source": [
    "## This is a sample notebook showing how to directly query Hive from Jupyter Spark"
   ]
  },
  {
   "cell_type": "code",
   "execution_count": 1,
   "metadata": {},
   "outputs": [],
   "source": [
    "from pyspark.sql import SparkSession\n",
    "import os\n",
    "import time"
   ]
  },
  {
   "cell_type": "markdown",
   "metadata": {},
   "source": [
    "#### Initialize Spark with enableHiveSupport option so that spark sql sees the hive metastore"
   ]
  },
  {
   "cell_type": "code",
   "execution_count": 2,
   "metadata": {},
   "outputs": [],
   "source": [
    "spark = SparkSession.builder.appName('sampleHive-'+os.getlogin()).enableHiveSupport().getOrCreate()"
   ]
  },
  {
   "cell_type": "markdown",
   "metadata": {},
   "source": [
    "#### Execute a show databases command and get results into a dataframe"
   ]
  },
  {
   "cell_type": "code",
   "execution_count": 3,
   "metadata": {},
   "outputs": [
    {
     "name": "stdout",
     "output_type": "stream",
     "text": [
      "+--------------------+\n",
      "|        databaseName|\n",
      "+--------------------+\n",
      "|167994_ecpfuat_ma...|\n",
      "|170352_gftsdwip_m...|\n",
      "|170352_gftsusip_m...|\n",
      "|34597_icggccsn_cc...|\n",
      "|         4_amlmipsdn|\n",
      "|           a4mlccofl|\n",
      "|     abadmin_managed|\n",
      "|         abadmin_raw|\n",
      "|        abadmin_work|\n",
      "|             abctest|\n",
      "|    abinitio_managed|\n",
      "|        abinitio_raw|\n",
      "|       abinitio_work|\n",
      "|    actmathn_managed|\n",
      "|        actmathn_raw|\n",
      "|       actmathn_work|\n",
      "|         aen_managed|\n",
      "|             aen_raw|\n",
      "|  aen_viewer_managed|\n",
      "|      aen_viewer_raw|\n",
      "+--------------------+\n",
      "only showing top 20 rows\n",
      "\n"
     ]
    }
   ],
   "source": [
    "databaseNamesDataFrame = spark.sql('show databases')\n",
    "databaseNamesDataFrame.show()"
   ]
  },
  {
   "cell_type": "markdown",
   "metadata": {},
   "source": [
    "#### Do a hive query, collect all the results local to this driver process, and show the time taken"
   ]
  },
  {
   "cell_type": "code",
   "execution_count": 4,
   "metadata": {},
   "outputs": [
    {
     "name": "stdout",
     "output_type": "stream",
     "text": [
      "found 2088445 rows and it took 127.74122667312622 seconds\n"
     ]
    }
   ],
   "source": [
    "start = time.time()\n",
    "a = spark.sql(\"select * from gfctocon_work.prod_tlv_documents where batch_id like '25%'\")\n",
    "num = a.count()\n",
    "end = time.time()\n",
    "print('found {} rows and it took {} seconds'.format(num,end-start))"
   ]
  },
  {
   "cell_type": "markdown",
   "metadata": {},
   "source": [
    "#### For comparison read the same undelying parquet files from hdfs and pull all the data local to this driver, show the time taken"
   ]
  },
  {
   "cell_type": "code",
   "execution_count": 5,
   "metadata": {},
   "outputs": [
    {
     "name": "stdout",
     "output_type": "stream",
     "text": [
      "found 2088445 rows and it took 17.16865086555481 seconds\n"
     ]
    }
   ],
   "source": [
    "start = time.time()\n",
    "b = spark.read.parquet('/data/gfctocon/work/hive/prod_tlv_documents/batch_id=25*')\n",
    "num=b.count()\n",
    "end = time.time()\n",
    "print('found {} rows and it took {} seconds'.format(num,end-start))"
   ]
  },
  {
   "cell_type": "code",
   "execution_count": null,
   "metadata": {},
   "outputs": [],
   "source": []
  }
 ],
 "metadata": {
  "kernelspec": {
   "display_name": "Python 3",
   "language": "python",
   "name": "python3"
  },
  "language_info": {
   "codemirror_mode": {
    "name": "ipython",
    "version": 3
   },
   "file_extension": ".py",
   "mimetype": "text/x-python",
   "name": "python",
   "nbconvert_exporter": "python",
   "pygments_lexer": "ipython3",
   "version": "3.6.5"
  }
 },
 "nbformat": 4,
 "nbformat_minor": 2
}
